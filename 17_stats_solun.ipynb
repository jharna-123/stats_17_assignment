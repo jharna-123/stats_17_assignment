{
 "cells": [
  {
   "cell_type": "markdown",
   "metadata": {},
   "source": [
    "Q=1 Generate a list o> R00 integers containing values between 90 to R30 and store it in the variable `int_list`.\n",
    "A>ter generating the list, >ind the >ollowing:\n",
    "\n",
    "  \n",
    "\n",
    "  (i) Write a Python function to calculate the mean of a given list of numbers.\n",
    "\n",
    "Create a function to find the median of a list of numbers.\n",
    "\n",
    "  \n",
    "\n",
    "  (ii) Develop a program to compute the mode of a list of integers.\n",
    "\n",
    "  \n",
    "\n",
    "  (iii) Implement a function to calculate the weighted mean of a list of values and their corresponding weights.\n",
    "\n",
    "  \n",
    "\n",
    "  (iv) Write a Python function to find the geometric mean of a list of positive numbers.\n",
    "\n",
    "  \n",
    "\n",
    "  (v) Create a program to calculate the harmonic mean of a list of values.\n",
    "\n",
    "  \n",
    "\n",
    "  (vi) Build a function to determine the midrange of a list of numbers (average of the minimum and maximum).\n",
    "\n",
    "  \n",
    "\n",
    "  (vii) Implement a Python program to find the trimmed mean of a list, excluding a certain percentage of\n",
    "outliers."
   ]
  },
  {
   "cell_type": "markdown",
   "metadata": {},
   "source": []
  },
  {
   "cell_type": "code",
   "execution_count": 15,
   "metadata": {},
   "outputs": [
    {
     "name": "stdout",
     "output_type": "stream",
     "text": [
      "Int List: [100, 101, 102, 103, 104, 105, 106, 107, 108, 109, 110, 111, 112, 113, 114, 115, 116, 117, 118, 119, 120, 121, 122, 123, 124, 125, 126, 127, 128, 129, 130]\n",
      "Mean: 115.0\n",
      "Median: 115\n",
      "Mode: [100, 101, 102, 103, 104, 105, 106, 107, 108, 109, 110, 111, 112, 113, 114, 115, 116, 117, 118, 119, 120, 121, 122, 123, 124, 125, 126, 127, 128, 129, 130]\n",
      "Weighted Mean: 102.66666666666667\n",
      "Geometric Mean: 114.65079768583865\n",
      "Harmonic Mean: 114.30095976822611\n",
      "Midrange: 115.0\n",
      "Trimmed Mean (10%): 115.0\n"
     ]
    }
   ],
   "source": [
    "import math\n",
    "\n",
    "def generate_int_list(lower_bound, upper_bound):\n",
    "    \"\"\"Generates a list of integers within the specified range.\"\"\"\n",
    "    return list(range(lower_bound, upper_bound + 1))\n",
    "\n",
    "def calculate_mean(numbers):\n",
    "    \"\"\"Calculates the mean of a list of numbers.\"\"\"\n",
    "    return sum(numbers) / len(numbers)\n",
    "\n",
    "def calculate_median(numbers):\n",
    "    \"\"\"Calculates the median of a list of numbers.\"\"\"\n",
    "    numbers.sort()\n",
    "    n = len(numbers)\n",
    "    if n % 2 == 0:\n",
    "        return (numbers[n // 2 - 1] + numbers[n // 2]) / 2\n",
    "    else:\n",
    "        return numbers[n // 2]\n",
    "\n",
    "def calculate_mode(numbers): \n",
    "\n",
    "    \"\"\"Calculates the mode of a list of numbers.\"\"\"\n",
    "    counts = {}\n",
    "    for num in numbers:\n",
    "        counts[num] = counts.get(num, 0) + 1\n",
    "    max_count = max(counts.values())\n",
    "    mode = [num for num, count in counts.items() if count == max_count]\n",
    "    return mode\n",
    "\n",
    "def calculate_weighted_mean(numbers, \n",
    " weights):\n",
    "    \"\"\"Calculates the weighted mean of a list of numbers and their corresponding weights.\"\"\"\n",
    "    numerator = sum(num * weight for num, weight in zip(numbers, weights))\n",
    "    denominator = sum(weights)\n",
    "    return numerator / denominator\n",
    "\n",
    "def calculate_geometric_mean(numbers):\n",
    "    \"\"\"Calculates the geometric mean of a list of positive numbers.\"\"\"\n",
    "    product = 1\n",
    "    for num in numbers:\n",
    "        product *= num\n",
    "    return product ** (1 / len(numbers))\n",
    "\n",
    "def calculate_harmonic_mean(numbers):\n",
    "    \"\"\"Calculates the harmonic mean of a list of numbers.\"\"\"\n",
    "    reciprocals = [1 / num for num in numbers]\n",
    "    return len(numbers) / sum(reciprocals)\n",
    "\n",
    "def calculate_midrange(numbers):\n",
    "    \"\"\"Calculates the midrange of a list of numbers.\"\"\"\n",
    "    return (min(numbers) + max(numbers)) / 2\n",
    "\n",
    "def calculate_trimmed_mean(numbers, percentage):\n",
    "    \"\"\"Calculates the trimmed mean of a list of numbers, excluding a certain percentage of outliers.\"\"\"\n",
    "    n = len(numbers)\n",
    "    num_to_remove = int(n * percentage / 100)\n",
    "    sorted_numbers = sorted(numbers)\n",
    "    return sum(sorted_numbers[num_to_remove:-num_to_remove]) / (n - 2 * num_to_remove)\n",
    "\n",
    "# Replace R00 and R30 with the desired lower and upper bounds\n",
    "int_list = generate_int_list(100, 130)  # Assuming R00 = 100 and R30 = 130\n",
    "\n",
    "# Calculate and print the results\n",
    "mean = calculate_mean(int_list)\n",
    "median = calculate_median(int_list)\n",
    "mode = calculate_mode(int_list)\n",
    "# Replace weights with appropriate values for weighted mean calculation\n",
    "weighted_mean = calculate_weighted_mean(int_list, [1, 2, 3, 4, 5])\n",
    "geometric_mean = calculate_geometric_mean(int_list)\n",
    "harmonic_mean = calculate_harmonic_mean(int_list)\n",
    "midrange = calculate_midrange(int_list)\n",
    "# Replace percentage with the desired percentage of outliers to exclude\n",
    "trimmed_mean = calculate_trimmed_mean(int_list, 10)\n",
    "\n",
    "print(\"Int List:\", int_list)\n",
    "print(\"Mean:\", mean)\n",
    "print(\"Median:\", median)\n",
    "print(\"Mode:\", mode)\n",
    "print(\"Weighted Mean:\", weighted_mean)\n",
    "print(\"Geometric Mean:\", geometric_mean)\n",
    "print(\"Harmonic Mean:\", harmonic_mean)\n",
    "print(\"Midrange:\", midrange)\n",
    "print(\"Trimmed Mean (10%):\", trimmed_mean)"
   ]
  },
  {
   "cell_type": "markdown",
   "metadata": {},
   "source": [
    " 2. Generate a list o> 500 integers containing values between 200 to 300 and store it in the variable `int_list2`. \n",
    "A>ter generating the list, >ind the >ollowing:\n",
    "\n",
    "\n",
    "  (i) Compare the given list of visualization for the given data:\n",
    "\n",
    "    \n",
    "\n",
    "    1. Frequency & Gaussian distribution\n",
    "\n",
    "    2. Frequency smoothened KDE plot\n",
    "\n",
    "    3. Gaussian distribution & smoothened KDE plot\n",
    "\n",
    "\n",
    "  (ii) Write a Python function to calculate the range of a given list of numbers.\n",
    "\n",
    "\n",
    "  (iii) Create a program to find the variance and standard deviation of a list of numbers.\n",
    "\n",
    "\n",
    "  (iv) Implement a function to compute the interquartile range (IQR) of a list of values.\n",
    "\n",
    "\n",
    "  (v) Build a program to calculate the coefficient of variation for a dataset.\n",
    "\n",
    "  \n",
    "\n",
    "  (vi) Write a Python function to find the mean absolute deviation (MAD) of a list of numbers.\n",
    "\n",
    "\n",
    "  (vii) Create a program to calculate the quartile deviation of a list of values.\n",
    "\n",
    "  \n",
    "\n",
    "  (viii) Implement a function to find the range-based coefficient of dispersion for a dataset."
   ]
  },
  {
   "cell_type": "code",
   "execution_count": 16,
   "metadata": {},
   "outputs": [
    {
     "name": "stdout",
     "output_type": "stream",
     "text": [
      "Int List 2: [217 279 204 242 258 231 201 265 241 257 235 211 246 282 291 200 214 299\n",
      " 253 212 242 284 275 268 206 268 247 203 276 300 252 278 215 220 299 258\n",
      " 223 279 213 285 248 249 269 241 235 264 295 269 294 200 250 236 234 248\n",
      " 293 203 298 242 277 221 273 200 210 243 258 223 259 202 298 262 235 294\n",
      " 267 282 246 299 220 281 250 227 214 241 258 265 236 210 286 243 211 202\n",
      " 251 280 232 254 200 238 219 246 242 256 260 277 230 224 202 203 294 298\n",
      " 213 240 272 219 295 272 226 266 252 267 261 214 296 204 267 211 286 277\n",
      " 275 256 216 224 229 221 225 280 260 261 283 233 232 300 270 285 231 213\n",
      " 271 256 224 279 241 218 240 254 279 211 238 293 201 295 244 288 224 267\n",
      " 282 203 276 235 286 261 269 287 243 232 211 284 210 254 237 228 202 227\n",
      " 283 289 223 253 251 246 220 253 229 267 235 239 209 273 241 223 203 246\n",
      " 290 250 203 231 209 210 227 245 271 239 261 285 297 244 234 234 288 233\n",
      " 205 236 200 275 234 269 253 280 262 208 261 201 281 235 291 240 236 248\n",
      " 225 267 235 230 229 233 218 217 293 284 202 269 212 244 266 291 285 239\n",
      " 239 275 222 230 217 270 271 218 292 243 283 249 241 293 246 221 273 289\n",
      " 296 291 273 228 281 258 200 286 263 216 236 294 224 263 267 251 208 256\n",
      " 291 293 287 232 219 272 271 287 213 258 281 255 264 275 292 236 225 232\n",
      " 242 214 286 228 220 282 268 222 299 283 207 272 261 213 205 200 208 279\n",
      " 279 253 211 204 239 292 245 226 274 252 249 291 251 299 218 234 251 230\n",
      " 253 258 243 255 218 245 287 265 270 253 248 294 259 280 226 235 258 249\n",
      " 273 244 213 270 238 239 208 213 207 280 222 279 289 208 299 206 281 271\n",
      " 284 289 266 260 216 256 223 224 204 300 249 287 230 254 225 220 297 257\n",
      " 223 227 229 233 253 251 286 207 209 254 200 283 236 281 220 203 242 265\n",
      " 220 236 268 280 247 210 294 291 243 263 231 220 270 209 260 291 235 283\n",
      " 276 218 274 298 297 243 203 212 300 258 201 200 239 224 258 236 299 269\n",
      " 206 203 298 240 260 233 228 268 226 296 251 273 253 269 233 207 294 272\n",
      " 284 207 267 285 291 267 284 271 283 295 200 205 291 230 273 283 207 221\n",
      " 292 208 243 246 200 251 238 289 274 298 287 296 283 226]\n",
      "Range: 100\n",
      "Variance: 869.803756\n",
      "Standard Deviation: 29.492435572532834\n",
      "Interquartile Range: 50.0\n",
      "Coefficient of Variation: 11.804623625122213\n",
      "Mean Absolute Deviation: 25.538\n",
      "Quartile Deviation: 25.0\n",
      "Range-Based Coefficient of Dispersion: 0.2\n"
     ]
    },
    {
     "data": {
      "image/png": "[encoded data removed]",
      "text/plain": [
       "<Figure size 640x480 with 1 Axes>"
      ]
     },
     "metadata": {},
     "output_type": "display_data"
    },
    {
     "data": {
      "image/png": "[encoded data removed]",
      "text/plain": [
       "<Figure size 640x480 with 1 Axes>"
      ]
     },
     "metadata": {},
     "output_type": "display_data"
    },
    {
     "data": {
      "image/png": "[encoded data removed]",
      "text/plain": [
       "<Figure size 640x480 with 1 Axes>"
      ]
     },
     "metadata": {},
     "output_type": "display_data"
    }
   ],
   "source": [
    "import numpy as np\n",
    "import matplotlib.pyplot as plt\n",
    "from scipy.stats import norm, gaussian_kde\n",
    "\n",
    "def generate_int_list(lower_bound, upper_bound, size):\n",
    "    \"\"\"Generates a list of integers within the specified range and size.\"\"\"\n",
    "    return np.random.randint(lower_bound, upper_bound + 1, size)\n",
    "\n",
    "def calculate_range(numbers):\n",
    "    \"\"\"Calculates the range of a list of numbers.\"\"\"\n",
    "    return max(numbers) - min(numbers)\n",
    "\n",
    "def calculate_variance(numbers):\n",
    "    \"\"\"Calculates the variance of a list of numbers.\"\"\"\n",
    "    mean = np.mean(numbers)\n",
    "    return np.mean((numbers - mean) ** 2)\n",
    "\n",
    "def calculate_standard_deviation(numbers):\n",
    "    \"\"\"Calculates the standard deviation of a list of numbers.\"\"\"\n",
    "    return np.sqrt(calculate_variance(numbers))\n",
    "\n",
    "def calculate_interquartile_range(numbers):\n",
    "    \"\"\"Calculates the interquartile range of a list of numbers.\"\"\"\n",
    "    q1, q3 = np.quantile(numbers, [0.25, 0.75])\n",
    "    return q3 - q1\n",
    "\n",
    "def calculate_coefficient_of_variation(numbers):\n",
    "    \"\"\"Calculates the coefficient of variation for a dataset.\"\"\"\n",
    "    mean = np.mean(numbers)\n",
    "    std_dev = np.std(numbers)\n",
    "    return (std_dev / mean) * 100\n",
    "\n",
    "def calculate_mean_absolute_deviation(numbers):\n",
    "    \"\"\"Calculates the mean absolute deviation of a list of numbers.\"\"\"\n",
    "    mean = np.mean(numbers)\n",
    "    return np.mean(np.abs(numbers - mean))\n",
    "\n",
    "def calculate_quartile_deviation(numbers):\n",
    "    \"\"\"Calculates the quartile deviation of a list of numbers.\"\"\"\n",
    "    q1, q3 = np.quantile(numbers, [0.25, 0.75])\n",
    "    return (q3 - q1) / 2\n",
    "\n",
    "def calculate_range_based_coefficient_of_dispersion(numbers):\n",
    "    \"\"\"Calculates the range-based coefficient of dispersion for a dataset.\"\"\"\n",
    "    return calculate_range(numbers) / (max(numbers) + min(numbers))\n",
    "\n",
    "# Generate the list of 500 integers\n",
    "int_list2 = generate_int_list(200, 300, 500)\n",
    "\n",
    "# Calculate and print the results\n",
    "range_value = calculate_range(int_list2)\n",
    "variance = calculate_variance(int_list2)\n",
    "std_dev = calculate_standard_deviation(int_list2)\n",
    "iqr = calculate_interquartile_range(int_list2)\n",
    "coeff_of_variation = calculate_coefficient_of_variation(int_list2)\n",
    "mad = calculate_mean_absolute_deviation(int_list2)\n",
    "quartile_deviation = calculate_quartile_deviation(int_list2)\n",
    "range_based_coeff_of_dispersion = calculate_range_based_coefficient_of_dispersion(int_list2)\n",
    "\n",
    "print(\"Int List 2:\", int_list2)\n",
    "print(\"Range:\", range_value)\n",
    "print(\"Variance:\", variance)\n",
    "print(\"Standard Deviation:\", std_dev)\n",
    "print(\"Interquartile Range:\", iqr)\n",
    "print(\"Coefficient of Variation:\", coeff_of_variation)\n",
    "print(\"Mean Absolute Deviation:\", mad)\n",
    "print(\"Quartile Deviation:\", quartile_deviation)\n",
    "print(\"Range-Based Coefficient of Dispersion:\", range_based_coeff_of_dispersion)\n",
    "\n",
    "# Visualization\n",
    "# Frequency and Gaussian distribution\n",
    "plt.hist(int_list2, bins=30, density=True, label='Frequency')\n",
    "x = np.linspace(min(int_list2), max(int_list2), 100)\n",
    "y = norm.pdf(x, np.mean(int_list2), np.std(int_list2))\n",
    "plt.plot(x, y, label='Gaussian Distribution')\n",
    "plt.legend()\n",
    "plt.xlabel('Value')\n",
    "plt.ylabel('Density')\n",
    "plt.title('Frequency & Gaussian Distribution')\n",
    "plt.show()\n",
    "\n",
    "# Frequency smoothened KDE plot\n",
    "kde = gaussian_kde(int_list2)\n",
    "plt.plot(x, kde(x), label='Smoothed KDE')\n",
    "plt.hist(int_list2, bins=30, density=True, alpha=0.5, label='Frequency')\n",
    "plt.legend()\n",
    "plt.xlabel('Value')\n",
    "plt.ylabel('Density')\n",
    "plt.title('Frequency Smoothened KDE Plot')\n",
    "plt.show()\n",
    "\n",
    "# Gaussian distribution & smoothened KDE plot\n",
    "plt.plot(x, norm.pdf(x, np.mean(int_list2), np.std(int_list2)), label='Gaussian Distribution')\n",
    "plt.plot(x, kde(x), label='Smoothed KDE')\n",
    "plt.legend()\n",
    "plt.xlabel('Value')\n",
    "plt.ylabel('Density')\n",
    "plt.title('Gaussian Distribution & Smoothened KDE Plot')\n",
    "plt.show()"
   ]
  },
  {
   "cell_type": "markdown",
   "metadata": {},
   "source": [
    "3.  Write a P\u001ethon class representing a discrete random variable with methods to calculate its expected\n",
    "value and variance."
   ]
  },
  {
   "cell_type": "code",
   "execution_count": 17,
   "metadata": {},
   "outputs": [
    {
     "name": "stdout",
     "output_type": "stream",
     "text": [
      "Expected Value: 2.0999999999999996\n",
      "Variance: 0.49\n"
     ]
    }
   ],
   "source": [
    "import numpy as np\n",
    "\n",
    "class DiscreteRandomVariable:\n",
    "    \"\"\"Represents a discrete random variable.\"\"\"\n",
    "\n",
    "    def __init__(self, values, probabilities):\n",
    "        \"\"\"Initializes the discrete random variable with given values and probabilities.\n",
    "\n",
    "        Args:\n",
    "            values (list): A list of possible values.\n",
    "            probabilities (list): A list of corresponding probabilities.\n",
    "        \"\"\"\n",
    "        self.values = np.array(values)\n",
    "        self.probabilities = np.array(probabilities)\n",
    "\n",
    "    def expected_value(self):\n",
    "        \"\"\"Calculates the expected value of the discrete random variable.\n",
    "\n",
    "        Returns:\n",
    "            float: The expected value.\n",
    "        \"\"\"\n",
    "        return np.sum(self.values * self.probabilities)\n",
    "\n",
    "    def variance(self):\n",
    "        \"\"\"Calculates the variance of the discrete random variable.\n",
    "\n",
    "        Returns:\n",
    "            float: The variance.\n",
    "        \"\"\"\n",
    "        expected_value = self.expected_value()\n",
    "        return np.sum((self.values - expected_value) ** 2 * self.probabilities)\n",
    "\n",
    "# Example usage:\n",
    "values = [1, 2, 3]\n",
    "probabilities = [0.2, 0.5, 0.3]\n",
    "random_variable = DiscreteRandomVariable(values, probabilities)\n",
    "\n",
    "print(\"Expected Value:\", random_variable.expected_value())\n",
    "print(\"Variance:\", random_variable.variance())"
   ]
  },
  {
   "cell_type": "markdown",
   "metadata": {},
   "source": [
    "4 Implement a program to simulate the rolling o6 a 6air six-sided die and calculate the expected value and\n",
    "variance o6 the outcomes."
   ]
  },
  {
   "cell_type": "code",
   "execution_count": 18,
   "metadata": {},
   "outputs": [
    {
     "name": "stdout",
     "output_type": "stream",
     "text": [
      "Expected Value: 3.516\n",
      "Variance: 2.9246686686686685\n"
     ]
    }
   ],
   "source": [
    "import random\n",
    "import statistics\n",
    "\n",
    "def roll_dice(num_rolls):\n",
    "    \"\"\"Simulates rolling a 6-sided die multiple times.\n",
    "\n",
    "    Args:\n",
    "        num_rolls (int): The number of times to roll the die.\n",
    "\n",
    "    Returns:\n",
    "        list: A list of the rolled values.\n",
    "    \"\"\"\n",
    "    rolls = []\n",
    "    for _ in range(num_rolls):\n",
    "        rolls.append(random.randint(1, 6))\n",
    "    return rolls\n",
    "\n",
    "def calculate_expected_value(rolls):\n",
    "    \"\"\"Calculates the expected value of the rolled values.\n",
    "\n",
    "    Args:\n",
    "        rolls (list): A list of the rolled values.\n",
    "\n",
    "    Returns:\n",
    "        float: The expected value.\n",
    "    \"\"\"\n",
    "    return sum(rolls) / len(rolls)\n",
    "\n",
    "def calculate_variance(rolls):\n",
    "    \"\"\"Calculates the variance of the rolled values.\n",
    "\n",
    "    Args:\n",
    "        rolls (list): A list of the rolled values.\n",
    "\n",
    "    Returns:\n",
    "        float: The variance.\n",
    "    \"\"\"\n",
    "    return statistics.variance(rolls)\n",
    "\n",
    "# Simulate rolling a 6-sided die 1000 times\n",
    "num_rolls = 1000\n",
    "rolls = roll_dice(num_rolls)\n",
    "\n",
    "# Calculate expected value and variance\n",
    "expected_value = calculate_expected_value(rolls)\n",
    "variance = calculate_variance(rolls)\n",
    "\n",
    "print(\"Expected Value:\", expected_value)\n",
    "print(\"Variance:\", variance)"
   ]
  },
  {
   "cell_type": "markdown",
   "metadata": {},
   "source": [
    "5. Create a Python 6unction to generate random samples 6rom a given probability distribution (e.g.,\n",
    "binomial, Poisson) and calculate their mean and variance."
   ]
  },
  {
   "cell_type": "code",
   "execution_count": 19,
   "metadata": {},
   "outputs": [
    {
     "name": "stdout",
     "output_type": "stream",
     "text": [
      "3.045\n",
      "2.324975\n"
     ]
    }
   ],
   "source": [
    "import numpy as np\n",
    "import scipy.stats as stats\n",
    "\n",
    "def generate_random_samples(distribution, params, sample_size):\n",
    "    if distribution == 'binom':\n",
    "        n, p = params\n",
    "        samples = stats.binom.rvs(n, p, size=sample_size)\n",
    "    elif distribution == 'poisson':\n",
    "        lam = params[0]\n",
    "        samples = stats.poisson.rvs(lam, size=sample_size)\n",
    "    else:\n",
    "        raise ValueError(\"Invalid distribution\")\n",
    "\n",
    "    return samples\n",
    "\n",
    "def calculate_mean_and_variance(samples):\n",
    "    mean = np.mean(samples)\n",
    "    variance = np.var(samples)\n",
    "\n",
    "    return mean, variance\n",
    "\n",
    "# Example usage\n",
    "distribution = 'binom'\n",
    "params = (10, 0.3)\n",
    "sample_size = 1000\n",
    "\n",
    "samples = generate_random_samples(distribution, params, sample_size)\n",
    "mean, variance = calculate_mean_and_variance(samples)\n",
    "\n",
    "print(mean)\n",
    "print(variance)"
   ]
  },
  {
   "cell_type": "markdown",
   "metadata": {},
   "source": [
    "6. Write a Python script to generate random numbers 6rom a Gaussian (normal) distribution and compute\n",
    "the mean, variance, and standard deviation o6 the samples."
   ]
  },
  {
   "cell_type": "code",
   "execution_count": 20,
   "metadata": {},
   "outputs": [
    {
     "name": "stdout",
     "output_type": "stream",
     "text": [
      "Mean: 0.007656724525955935\n",
      "Variance: 0.9465641049078947\n",
      "Standard Deviation: 0.9729152609081094\n"
     ]
    }
   ],
   "source": [
    "import numpy as np\n",
    "\n",
    "def generate_gaussian_samples(mean, std_dev, sample_size):\n",
    "   \n",
    "\n",
    "    samples = np.random.normal(mean, std_dev, sample_size)\n",
    "    return samples\n",
    "\n",
    "def calculate_statistics(samples):\n",
    "    \n",
    "    mean = np.mean(samples)\n",
    "    variance = np.var(samples)\n",
    "    std_dev = np.std(samples)\n",
    "    return mean, variance, std_dev\n",
    "\n",
    "def main():\n",
    "    # Example usage\n",
    "    mean = 0\n",
    "    std_dev = 1\n",
    "    sample_size = 1000\n",
    "\n",
    "    samples = generate_gaussian_samples(mean, std_dev, sample_size)\n",
    "    mean, variance, std_dev = calculate_statistics(samples)\n",
    "\n",
    "    print(\"Mean:\", mean)\n",
    "    print(\"Variance:\", variance)\n",
    "    print(\"Standard Deviation:\", std_dev)\n",
    "\n",
    "if __name__ == \"__main__\":\n",
    "    main()"
   ]
  },
  {
   "cell_type": "markdown",
   "metadata": {},
   "source": [
    "7. Use seaborn library\n",
    " to load tips dataset. Find the 6ollowing 6rom the dataset 6or the columns total_bill\n",
    "and tip`:\n",
    "\n",
    "  \n",
    "\n",
    "  (i) Write a Python function that calculates their skewness.\n",
    "\n",
    "\n",
    "  (ii) Create a program that determines whether the columns exhibit positive skewness, negative skewness, or is\n",
    "approximately symmetric.\n",
    "\n",
    "\n",
    "  (iii) Write a function that calculates the covariance between two columns.\n",
    "\n",
    "\n",
    "  (iv) Implement a Python program that calculates the Pearson correlation coefficient between two columns.\n",
    "\n",
    "\n",
    "  (v) Write a script to visualize the correlation between two specific columns in a Pandas DataFrame using\n",
    "scatter plots."
   ]
  },
  {
   "cell_type": "code",
   "execution_count": 21,
   "metadata": {},
   "outputs": [
    {
     "name": "stdout",
     "output_type": "stream",
     "text": [
      "Positively skewed\n",
      "Positively skewed\n",
      "Covariance: 8.323501629224854\n",
      "Correlation: 0.6757341092113645\n"
     ]
    },
    {
     "data": {
      "image/png": "[encoded data removed]",
      "text/plain": [
       "<Figure size 640x480 with 1 Axes>"
      ]
     },
     "metadata": {},
     "output_type": "display_data"
    }
   ],
   "source": [
    "import seaborn as sns\n",
    "import pandas as pd\n",
    "import numpy as np\n",
    "\n",
    "def calculate_skewness(data):\n",
    "    skewness = data.skew()\n",
    "    return skewness\n",
    "\n",
    "def determine_skewness(skewness_value):\n",
    "    if skewness_value > 0:\n",
    "        print(\"Positively skewed\")\n",
    "    elif skewness_value < 0:\n",
    "        print(\"Negatively skewed\")\n",
    "    else:\n",
    "        print(\"Approximately symmetric\")\n",
    "\n",
    "def calculate_covariance(column1, column2):\n",
    "    covariance = np.cov(column1, column2)[0, 1]\n",
    "    return covariance\n",
    "\n",
    "def calculate_correlation(column1, column2):\n",
    "    correlation = np.corrcoef(column1, column2)[0, 1]\n",
    "    return correlation\n",
    "\n",
    "# Load the tips dataset\n",
    "tips_data = sns.load_dataset(\"tips\")\n",
    "\n",
    "# Calculate skewness for total_bill and tip\n",
    "skewness_total_bill = calculate_skewness(tips_data[\"total_bill\"])\n",
    "skewness_tip = calculate_skewness(tips_data[\"tip\"])\n",
    "\n",
    "# Determine skewness\n",
    "determine_skewness(skewness_total_bill)\n",
    "determine_skewness(skewness_tip)\n",
    "\n",
    "# Calculate covariance\n",
    "covariance_total_bill_tip = calculate_covariance(tips_data[\"total_bill\"], tips_data[\"tip\"])\n",
    "print(\"Covariance:\", covariance_total_bill_tip)\n",
    "\n",
    "# Calculate correlation\n",
    "correlation_total_bill_tip = calculate_correlation(tips_data[\"total_bill\"], tips_data[\"tip\"])\n",
    "print(\"Correlation:\", correlation_total_bill_tip)\n",
    "\n",
    "# Visualize the correlation using a scatter plot\n",
    "import matplotlib.pyplot as plt\n",
    "\n",
    "plt.scatter(tips_data[\"total_bill\"], tips_data[\"tip\"])\n",
    "plt.xlabel(\"Total Bill\")\n",
    "plt.ylabel(\"Tip\")\n",
    "plt.title(\"Correlation between Total Bill and Tip\")\n",
    "plt.show()"
   ]
  },
  {
   "cell_type": "markdown",
   "metadata": {},
   "source": [
    "8 Write a Python 6unction to calculate the probability density 6unction (PDF) o6 a continuous random\n",
    "variable 6or a given normal distribution.\n"
   ]
  },
  {
   "cell_type": "code",
   "execution_count": 22,
   "metadata": {},
   "outputs": [
    {
     "name": "stdout",
     "output_type": "stream",
     "text": [
      "0.05399096651318806\n"
     ]
    }
   ],
   "source": [
    "import scipy.stats as stats\n",
    "\n",
    "def calculate_normal_pdf(x, mean, std_dev):\n",
    "  \n",
    "\n",
    "    pdf = stats.norm.pdf(x, loc=mean, scale=std_dev)\n",
    "    return pdf\n",
    "x = 2\n",
    "mean = 0\n",
    "std_dev = 1\n",
    "\n",
    "pdf_value = calculate_normal_pdf(x, mean, std_dev)\n",
    "print(pdf_value)"
   ]
  },
  {
   "cell_type": "markdown",
   "metadata": {},
   "source": [
    "9.Create a program to calculate the cumulative distribution 6unction (CDF) o6 exponential distribution."
   ]
  },
  {
   "cell_type": "code",
   "execution_count": 23,
   "metadata": {},
   "outputs": [
    {
     "name": "stdout",
     "output_type": "stream",
     "text": [
      "0.9975212478233336\n"
     ]
    }
   ],
   "source": [
    "import scipy.stats as stats\n",
    "\n",
    "def calculate_exponential_cdf(x, rate):\n",
    "    \n",
    "    cdf = stats.expon.cdf(x, scale=1/rate)\n",
    "    return cdf\n",
    "x = 2\n",
    "rate = 3\n",
    "\n",
    "cdf_value = calculate_exponential_cdf(x, rate)\n",
    "print(cdf_value)"
   ]
  },
  {
   "cell_type": "markdown",
   "metadata": {},
   "source": [
    "10 Write a Python 6unction to calculate the probability mass 6unction (PMF) o6 Poisson distribution.\n"
   ]
  },
  {
   "cell_type": "code",
   "execution_count": 24,
   "metadata": {},
   "outputs": [
    {
     "name": "stdout",
     "output_type": "stream",
     "text": [
      "0.18044704431548356\n"
     ]
    }
   ],
   "source": [
    "import scipy.stats as stats\n",
    "\n",
    "def calculate_poisson_pmf(k, lambda_):\n",
    "   \n",
    "    pmf = stats.poisson.pmf(k, lambda_)\n",
    "    return pmf\n",
    "\n",
    "k = 3\n",
    "lambda_ = 2\n",
    "\n",
    "pmf_value = calculate_poisson_pmf(k, lambda_)\n",
    "print(pmf_value)"
   ]
  },
  {
   "cell_type": "markdown",
   "metadata": {},
   "source": [
    "11. A company wants to test iN a new website layout leads to a higher conversion rate (percentage oN visitors\n",
    "who make a purchase). They collect data Nrom the old and new layouts to compare.\n",
    "\n",
    "\n",
    "To ge<erate the data use the followi<g comma<d:\n",
    "\n",
    "```python\n",
    "\n",
    "import <umpy as <p\n",
    "\n",
    "# 50 purchases out of 1000 visitors\n",
    "\n",
    "old_layout = <p.array([1] * 50 + [0] * 950)\n",
    "\n",
    "# 70 purchases out of 1000 visitors  \n",
    "\n",
    "<ew_layout = <p.array([1] * 70 + [0] * 930)\n",
    "\n",
    "  ```\n",
    "\n",
    "Apply z-test to fi<d which layout is successful."
   ]
  },
  {
   "cell_type": "code",
   "execution_count": 25,
   "metadata": {},
   "outputs": [
    {
     "name": "stdout",
     "output_type": "stream",
     "text": [
      "There is no significant difference in conversion rates between the old and new layouts.\n"
     ]
    }
   ],
   "source": [
    "\n",
    "import numpy as np\n",
    "import scipy.stats as stats\n",
    "\n",
    "# Data for old and new layouts\n",
    "old_layout = np.array([1] * 50 + [0] * 950)\n",
    "new_layout = np.array([1] * 70 + [0] * 930)\n",
    "\n",
    "# Calculate conversion rates\n",
    "old_conversion_rate = np.mean(old_layout)\n",
    "new_conversion_rate = np.mean(new_layout)\n",
    "\n",
    "# Calculate pooled standard error\n",
    "old_var = np.var(old_layout)\n",
    "new_var = np.var(new_layout)\n",
    "\n",
    "if old_var == 0 or new_var == 0:\n",
    "    pooled_std_error = np.sqrt((old_conversion_rate * (1 - old_conversion_rate) * len(old_layout) + new_conversion_rate * (1 - new_conversion_rate) * len(new_layout)) / (len(old_layout) + len(new_layout)))\n",
    "else:\n",
    "    pooled_var = ((len(old_layout) - 1) * old_var + (len(new_layout) - 1) * new_var) / (len(old_layout) + len(new_layout) - 2)\n",
    "    pooled_std_dev = np.sqrt(pooled_var)\n",
    "    pooled_std_error = np.sqrt(pooled_std_dev**2 / len(old_layout) + pooled_std_dev**2 / len(new_layout))\n",
    "\n",
    "# Calculate z-score\n",
    "z_score = (new_conversion_rate - old_conversion_rate) / pooled_std_error\n",
    "\n",
    "# Set significance level (alpha)\n",
    "alpha = 0.05\n",
    "\n",
    "# Find critical value\n",
    "critical_value = stats.norm.ppf(1 - alpha / 2)\n",
    "\n",
    "# Compare z-score with critical value\n",
    "if abs(z_score) > abs(critical_value):\n",
    "    print(\"The new layout has a significantly higher conversion rate.\")\n",
    "else:\n",
    "    print(\"There is no significant difference in conversion rates between the old and new layouts.\")"
   ]
  },
  {
   "cell_type": "markdown",
   "metadata": {},
   "source": [
    "12. A tutoring service claims that its program improves students' exam scores. A sample oN students who\n",
    "participated in the program was taken, and their scores beNore and aNter the program were recorded.\n",
    "\n",
    "\n",
    "Use the below code to ge<erate samples of respective arrays of marks:\n",
    "\n",
    "```python\n",
    "\n",
    "before_program = <p.array([75, 80, 85, 70, 90, 78, 92, 88, 82, 87])\n",
    "\n",
    "after_program = <p.array([80, 85, 90, 80, 92, 80, 95, 90, 85, 88])\n",
    "\n",
    "```\n",
    "\n",
    "Use z-test to fi<d if the claims made by tutor are true or false"
   ]
  },
  {
   "cell_type": "code",
   "execution_count": 26,
   "metadata": {},
   "outputs": [
    {
     "name": "stdout",
     "output_type": "stream",
     "text": [
      "There is no significant difference in exam scores before and after the tutoring program.\n"
     ]
    }
   ],
   "source": [
    "import numpy as np\n",
    "from scipy.stats import zscore\n",
    "\n",
    "# Data for before and after the program\n",
    "before_program = np.array([75, 80, 85, 70, 90, 78, 92, 88, 82, 87])\n",
    "after_program = np.array([80, 85, 90, 80, 92, 80, 95, 90, 85, 88])\n",
    "\n",
    "# Calculate mean and standard deviation for before and after scores\n",
    "before_mean = np.mean(before_program)\n",
    "before_std = np.std(before_program)\n",
    "\n",
    "after_mean = np.mean(after_program)\n",
    "after_std = np.std(after_program)\n",
    "\n",
    "# Calculate pooled standard deviation\n",
    "pooled_var = ((len(before_program) - 1) * before_std**2 + (len(after_program) - 1) * after_std**2) / (len(before_program) + len(after_program) - 2)\n",
    "pooled_std_dev = np.sqrt(pooled_var)\n",
    "\n",
    "# Calculate z-score\n",
    "z_score = (after_mean - before_mean) / (pooled_std_dev * np.sqrt(1/len(before_program) + 1/len(after_program)))\n",
    "\n",
    "# Set significance level (alpha)\n",
    "alpha = 0.05\n",
    "\n",
    "# Find critical value\n",
    "critical_value = stats.norm.ppf(1 - alpha / 2)\n",
    "\n",
    "# Compare z-score with critical value\n",
    "if abs(z_score) > abs(critical_value):\n",
    "    print(\"The tutoring program significantly improves exam scores.\")\n",
    "else:\n",
    "    print(\"There is no significant difference in exam scores before and after the tutoring program.\")"
   ]
  },
  {
   "cell_type": "markdown",
   "metadata": {},
   "source": [
    "13. A pharmaceutical company wants to determine iN a new drug is eNNective in reducing blood pressure. They\n",
    "conduct a study and record blood pressure measurements beNore and aNter administering the drug.\n",
    "\n",
    "\n",
    "Use the below code to ge<erate samples of respective arrays of blood pressure:\n",
    "\n",
    "\n",
    "```python\n",
    "\n",
    "before_drug = <p.array([145, 150, 140, 135, 155, 160, 152, 148, 130, 138])\n",
    "\n",
    "after_drug = <p.array([130, 140, 132, 128, 145, 148, 138, 136, 125, 130])\n",
    "\n",
    "  ```\n",
    "\n",
    "\n",
    "Impleme<t z-test to fi<d if the drug really works or <ot."
   ]
  },
  {
   "cell_type": "code",
   "execution_count": 27,
   "metadata": {},
   "outputs": [
    {
     "name": "stdout",
     "output_type": "stream",
     "text": [
      "The drug is effective in reducing blood pressure.\n"
     ]
    }
   ],
   "source": [
    "import numpy as np\n",
    "from scipy.stats import zscore\n",
    "\n",
    "# Data for before and after the drug\n",
    "before_drug = np.array([145, 150, 140, 135, 155, 160, 152, 148, 130, 138])\n",
    "after_drug = np.array([130, 140, 132, 128, 145, 148, 138, 136, 125, 130])\n",
    "\n",
    "# Calculate mean and standard deviation for before and after blood pressure\n",
    "before_mean = np.mean(before_drug)\n",
    "before_std = np.std(before_drug)\n",
    "\n",
    "after_mean = np.mean(after_drug)\n",
    "after_std = np.std(after_drug)\n",
    "\n",
    "# Calculate pooled standard deviation\n",
    "pooled_var = ((len(before_drug) - 1) * before_std**2 + (len(after_drug) - 1) * after_std**2) / (len(before_drug) + len(after_drug) - 2)\n",
    "pooled_std_dev = np.sqrt(pooled_var)\n",
    "\n",
    "# Calculate z-score\n",
    "z_score = (after_mean - before_mean) / (pooled_std_dev * np.sqrt(1/len(before_drug) + 1/len(after_drug)))\n",
    "\n",
    "# Set significance level (alpha)\n",
    "alpha = 0.05\n",
    "\n",
    "# Find critical value\n",
    "critical_value = stats.norm.ppf(1 - alpha / 2)\n",
    "\n",
    "# Compare z-score with critical value\n",
    "if abs(z_score) > abs(critical_value):\n",
    "    print(\"The drug is effective in reducing blood pressure.\")\n",
    "else:\n",
    "    print(\"There is no significant difference in blood pressure before and after the drug.\")"
   ]
  },
  {
   "cell_type": "markdown",
   "metadata": {},
   "source": [
    "14 A custo:er service depart:ent clai:s that their average response ti:e is less than 5 :inutesV A sa:ple\n",
    "of recent custo:er interactions was taken, and the response ti:es were recorded.\n",
    "\n",
    "\n",
    "Impleme3t the below code to ge3erate the array of respo3se time:\n",
    "\n",
    "```python\n",
    "\n",
    "respo3se_times = np.array([4.3, 3.8, 5.1, 4.9, 4.7, 4.2, 5.2, 4.5, 4.6, 4.4])\n",
    "\n",
    "```\n",
    "\n",
    "Impleme3t z-test to fi3d the claims made by customer service departme3t are tru or false."
   ]
  },
  {
   "cell_type": "code",
   "execution_count": 28,
   "metadata": {},
   "outputs": [
    {
     "name": "stdout",
     "output_type": "stream",
     "text": [
      "There is no significant difference in average response time.\n"
     ]
    }
   ],
   "source": [
    "import numpy as np\n",
    "from scipy.stats import zscore\n",
    "\n",
    "# Replace 'response_times' with your actual data\n",
    "response_times = [4.2, 3.8, 5.1, 4.5, 3.9, 4.7, 4.0, 3.6, 4.2, 4.8]\n",
    "\n",
    "# Calculate sample statistics\n",
    "sample_mean = np.mean(response_times)\n",
    "sample_std_dev = np.std(response_times)\n",
    "sample_size = len(response_times)\n",
    "\n",
    "# Calculate z-score\n",
    "z_score = (sample_mean - 5) / (sample_std_dev / np.sqrt(sample_size))\n",
    "\n",
    "# Set significance level (alpha)\n",
    "alpha = 0.05\n",
    "\n",
    "# Find critical value\n",
    "critical_value = zscore([alpha])\n",
    "\n",
    "# Compare z-score with critical value\n",
    "if z_score < critical_value:\n",
    "    print(\"The average response time is significantly less than 5 minutes.\")\n",
    "else:\n",
    "    print(\"There is no significant difference in average response time.\")"
   ]
  },
  {
   "cell_type": "markdown",
   "metadata": {},
   "source": [
    "15 A company is testing two different website layouts to see which one leads to higher click-through ratesV\n",
    "Write a Python function to perform an A/B test analysis, including calculating the t-statistic, degrees of\n",
    "freedom, and p-value.\n",
    "\n",
    "\n",
    "Use the followi3g datam\n",
    "\n",
    "```python\n",
    "\n",
    "layout_a_clicks = [28, 32, 33, 29, 31, 34, 30, 35, 36, 37]\n",
    "\n",
    "layout_b_clicks = [40, 41, 38, 42, 39, 44, 43, 41, 45, 47]"
   ]
  },
  {
   "cell_type": "code",
   "execution_count": 29,
   "metadata": {},
   "outputs": [
    {
     "name": "stdout",
     "output_type": "stream",
     "text": [
      "T-statistic: 7.692875136699702\n",
      "Degrees of freedom: 18\n",
      "P-value: 4.260288653573711e-07\n"
     ]
    }
   ],
   "source": [
    "import scipy.stats as stats\n",
    "import numpy as np\n",
    "\n",
    "def perform_ab_test(layout_a_clicks, layout_b_clicks):\n",
    "    \n",
    "\n",
    "    # Calculate sample means and standard deviations\n",
    "    mean_a = np.mean(layout_a_clicks)\n",
    "    mean_b = np.mean(layout_b_clicks)\n",
    "    std_dev_a = np.std(layout_a_clicks)\n",
    "    std_dev_b = np.std(layout_b_clicks)\n",
    "\n",
    "    # Calculate pooled standard deviation\n",
    "    pooled_var = ((len(layout_a_clicks) - 1) * std_dev_a**2 + (len(layout_b_clicks) - 1) * std_dev_b**2) / (len(layout_a_clicks) + len(layout_b_clicks) - 2)\n",
    "    pooled_std_dev = np.sqrt(pooled_var)\n",
    "\n",
    "    # Calculate t-statistic\n",
    "    t_statistic = (mean_b - mean_a) / (pooled_std_dev * np.sqrt(1/len(layout_a_clicks) + 1/len(layout_b_clicks)))\n",
    "\n",
    "    # Calculate degrees of freedom\n",
    "    degrees_of_freedom = len(layout_a_clicks) + len(layout_b_clicks) - 2\n",
    "\n",
    "    # Calculate p-value\n",
    "    p_value = stats.t.sf(abs(t_statistic), degrees_of_freedom) * 2\n",
    "\n",
    "    return t_statistic, degrees_of_freedom, p_value\n",
    "\n",
    "# Example usage\n",
    "layout_a_clicks = [28, 32, 33, 29, 31, 34, 30, 35, 36, 37]\n",
    "layout_b_clicks = [40, 41, 38, 42, 39, 44, 43, 41, 45, 47]\n",
    "\n",
    "t_statistic, degrees_of_freedom, p_value = perform_ab_test(layout_a_clicks, layout_b_clicks)\n",
    "print(\"T-statistic:\", t_statistic)\n",
    "print(\"Degrees of freedom:\", degrees_of_freedom)\n",
    "print(\"P-value:\", p_value)"
   ]
  },
  {
   "cell_type": "markdown",
   "metadata": {},
   "source": [
    "16 A pharmaceutical company wants to determine if a new drug is more effective than an existing drug in\n",
    "reducing cholesterol levelsV Create a program to analyze the clinical trial data and calculate the tstatistic and p-value for the treatment effect.\n",
    "\n",
    "\n",
    "Use the followi3g data of cholestrol levelm\n",
    "\n",
    "```python\n",
    "\n",
    "existi3g_drug_levels = [180, 182, 175, 185, 178, 176, 172, 184, 179, 183]\n",
    "\n",
    "3ew_drug_levels = [170, 172, 165, 168, 175, 173, 170, 178, 172, 176]"
   ]
  },
  {
   "cell_type": "code",
   "execution_count": 30,
   "metadata": {},
   "outputs": [
    {
     "name": "stdout",
     "output_type": "stream",
     "text": [
      "T-statistic: -5.55174907648204\n",
      "Degrees of freedom: 9\n",
      "P-value: 0.0003556280067122947\n"
     ]
    }
   ],
   "source": [
    "import scipy.stats as stats\n",
    "\n",
    "def perform_paired_t_test(existing_drug_levels, new_drug_levels):\n",
    "    \n",
    "    existing_drug_levels = np.array(existing_drug_levels)\n",
    "    new_drug_levels = np.array(new_drug_levels)\n",
    "    # Calculate differences\n",
    "    differences = new_drug_levels - existing_drug_levels\n",
    "\n",
    "    # Calculate mean and standard deviation of differences\n",
    "    mean_diff = np.mean(differences)\n",
    "    std_dev_diff = np.std(differences)\n",
    "\n",
    "    # Calculate t-statistic\n",
    "    t_statistic = mean_diff / (std_dev_diff / np.sqrt(len(differences)))\n",
    "\n",
    "    # Calculate degrees of freedom\n",
    "    degrees_of_freedom = len(differences) - 1\n",
    "\n",
    "    # Calculate p-value\n",
    "    p_value = stats.t.sf(abs(t_statistic), degrees_of_freedom) * 2\n",
    "\n",
    "    return t_statistic, degrees_of_freedom, p_value\n",
    "\n",
    "# Example usage\n",
    "existing_drug_levels = [180, 182, 175, 185, 178, 176, 172, 184, 179, 183]\n",
    "new_drug_levels = [170, 172, 165, 168, 175, 173, 170, 178, 172, 176]\n",
    "\n",
    "t_statistic, degrees_of_freedom, p_value = perform_paired_t_test(existing_drug_levels, new_drug_levels)\n",
    "print(\"T-statistic:\", t_statistic)\n",
    "print(\"Degrees of freedom:\", degrees_of_freedom)\n",
    "print(\"P-value:\", p_value)"
   ]
  },
  {
   "cell_type": "markdown",
   "metadata": {},
   "source": [
    "17. A school district introduces an educational intervention progra: to i:prove :ath scoresV Write a Python\n",
    "function to analyze pre- and post-intervention test scores, calculating the t-statistic and p-value to\n",
    "deter:ine if the intervention had a significant i:pact.\n",
    "\n",
    "\n",
    "Use the followi3g data of test score:\n",
    "\n",
    "\n",
    "  ```python\n",
    "\n",
    "  pre_i3terve3tio3_scores = [80, 85, 90, 75, 88, 82, 92, 78, 85, 87]\n",
    "\n",
    "  post_i3terve3tio3_scores = [90, 92, 88, 92, 95, 91, 96, 93, 89, 93]"
   ]
  },
  {
   "cell_type": "code",
   "execution_count": 31,
   "metadata": {},
   "outputs": [
    {
     "name": "stdout",
     "output_type": "stream",
     "text": [
      "T-statistic: 4.667952781247146\n",
      "Degrees of freedom: 9\n",
      "P-value: 0.0011719755940607388\n"
     ]
    }
   ],
   "source": [
    "import numpy as np\n",
    "import scipy.stats as stats\n",
    "\n",
    "def perform_paired_t_test(pre_intervention_scores, post_intervention_scores):\n",
    " \n",
    "\n",
    "    pre_intervention_scores = np.array(pre_intervention_scores)\n",
    "    post_intervention_scores = np.array(post_intervention_scores)\n",
    "\n",
    "    differences = post_intervention_scores - pre_intervention_scores\n",
    "\n",
    "    mean_diff = np.mean(differences)\n",
    "    std_dev_diff = np.std(differences)\n",
    "\n",
    "    t_statistic = mean_diff / (std_dev_diff / np.sqrt(len(differences)))\n",
    "\n",
    "    degrees_of_freedom = len(differences) - 1\n",
    "\n",
    "    p_value = stats.t.sf(abs(t_statistic), degrees_of_freedom) * 2\n",
    "\n",
    "    return t_statistic, degrees_of_freedom, p_value\n",
    "\n",
    "# Example usage\n",
    "pre_intervention_scores = [80, 85, 90, 75, 88, 82, 92, 78, 85, 87]\n",
    "post_intervention_scores = [90, 92, 88, 92, 95, 91, 96, 93, 89, 93]\n",
    "\n",
    "t_statistic, degrees_of_freedom, p_value = perform_paired_t_test(pre_intervention_scores, post_intervention_scores)\n",
    "print(\"T-statistic:\", t_statistic)\n",
    "print(\"Degrees of freedom:\", degrees_of_freedom)\n",
    "print(\"P-value:\", p_value)"
   ]
  },
  {
   "cell_type": "markdown",
   "metadata": {},
   "source": [
    "18. An HR department wants to investigate i@ there's a gender-based salary gap within the company. Develop\n",
    "a program to analyze salary data, calculate the t-statistic, and determine i@ there's a statistically\n",
    "signi@icant di@@erence between the average salaries o@ male and @emale employees.\n",
    "\n",
    "\n",
    "Use the below code to generate synthetic dataY\n",
    "```python\n",
    "\n",
    "# Generate synthetic salary data for male and female employees\n",
    "\n",
    "np.random.seed(0)  # For reproducibility\n",
    "\n",
    "male_salaries = np.random.normal(loc=50000, scale=10000, size=20)\n",
    "\n",
    "female_salaries = np.random.normal(loc=55000, scale=9000, size=20)"
   ]
  },
  {
   "cell_type": "code",
   "execution_count": 32,
   "metadata": {},
   "outputs": [
    {
     "name": "stdout",
     "output_type": "stream",
     "text": [
      "There is no statistically significant difference in salaries between male and female employees.\n"
     ]
    }
   ],
   "source": [
    "import numpy as np\n",
    "import scipy.stats as stats\n",
    "\n",
    "# Generate synthetic salary data for male and female employees\n",
    "np.random.seed(0)  # For reproducibility\n",
    "\n",
    "male_salaries = np.random.normal(loc=50000, scale=10000, size=20)\n",
    "female_salaries = np.random.normal(loc=55000, scale=9000, size=20)\n",
    "\n",
    "# Perform independent t-test\n",
    "t_statistic, p_value = stats.ttest_ind(male_salaries, female_salaries)\n",
    "\n",
    "# Set significance level (alpha)\n",
    "alpha = 0.05\n",
    "\n",
    "# Compare p-value with alpha\n",
    "if p_value < alpha:\n",
    "    print(\"There is a statistically significant difference in salaries between male and female employees.\")\n",
    "else:\n",
    "    print(\"There is no statistically significant difference in salaries between male and female employees.\")"
   ]
  },
  {
   "cell_type": "markdown",
   "metadata": {},
   "source": [
    "19 A manufacturer produces two different versions o@ a product and wants to compare their quality scores.\n",
    "Create a Python function to analyze quality assessment data, calculate the t-statistic, and decide\n",
    "whether there's a significant difference in quality between the two versions.\n",
    "\n",
    "\n",
    "Use the following dataY\n",
    "```python\n",
    "\n",
    "version1_scores = [85, 88, 82, 89, 87, 84, 90, 88, 85, 86, 91, 83, 87, 84, 89, 86, 84, 88, 85, 86, 89, 90, 87, 88, 85]\n",
    "\n",
    "version2_scores = [80, 78, 83, 81, 79, 82, 76, 80, 78, 81, 77, 82, 80, 79, 82, 79, 80, 81, 79, 82, 79, 78, 80, 81, 8"
   ]
  },
  {
   "cell_type": "code",
   "execution_count": 33,
   "metadata": {},
   "outputs": [
    {
     "name": "stdout",
     "output_type": "stream",
     "text": [
      "T-statistic: 11.581955058389747\n",
      "Degrees of freedom: 48\n",
      "P-value: 1.6687419601723344e-15\n"
     ]
    }
   ],
   "source": [
    "import numpy as np\n",
    "import scipy.stats as stats\n",
    "\n",
    "def compare_quality_scores(version1_scores, version2_scores):\n",
    "  \n",
    "\n",
    "    # Convert lists to NumPy arrays\n",
    "    version1_scores = np.array(version1_scores)\n",
    "    version2_scores = np.array(version2_scores)\n",
    "\n",
    "    # Perform independent t-test\n",
    "    t_statistic, p_value = stats.ttest_ind(version1_scores, version2_scores)\n",
    "\n",
    "    # Calculate degrees of freedom\n",
    "    degrees_of_freedom = len(version1_scores) + len(version2_scores) - 2\n",
    "\n",
    "    return t_statistic, degrees_of_freedom, p_value\n",
    "\n",
    "# Example usage\n",
    "version1_scores = [85, 88, 82, 89, 87, 84, 90, 88, 85, 86, 91, 83, 87, 84, 89, 86, 84, 88, 85, 86, 89, 90, 87, 88, 85]\n",
    "version2_scores = [80, 78, 83, 81, 79, 82, 76, 80, 78, 81, 77, 82, 80, 79, 82, 79, 80, 81, 79, 82, 79, 78, 80, 81, 80]\n",
    "\n",
    "t_statistic, degrees_of_freedom, p_value = compare_quality_scores(version1_scores, version2_scores)\n",
    "print(\"T-statistic:\", t_statistic)\n",
    "print(\"Degrees of freedom:\", degrees_of_freedom)\n",
    "print(\"P-value:\", p_value)"
   ]
  },
  {
   "cell_type": "markdown",
   "metadata": {},
   "source": [
    " 20. A restaurant chain collects customer satis@action scores for two different branches. Write a program to\n",
    "analyze the scores, calculate the t-statistic, and determine i@ there's a statistically signi@icant di@@erence in\n",
    "customer satis@action between the branches.\n",
    "\n",
    "\n",
    "Use the below data of scores:\n",
    "\n",
    "  ```python\n",
    "\n",
    "branch_a_scores = [4, 5, 3, 4, 5, 4, 5, 3, 4, 4, 5, 4, 4, 3, 4, 5, 5, 4, 3, 4, 5, 4, 3, 5, 4, 4, 5, 3, 4, 5, 4]\n",
    "\n",
    "branch_b_scores = [3, 4, 2, 3, 4, 3, 4, 2, 3, 3, 4, 3, 3, 2, 3, 4, 4, 3, 2, 3, 4, 3, 2, 4, 3, 3, 4, 2, 3, 4, 3]"
   ]
  },
  {
   "cell_type": "code",
   "execution_count": 34,
   "metadata": {},
   "outputs": [
    {
     "name": "stdout",
     "output_type": "stream",
     "text": [
      "T-statistic: 5.480077554195743\n",
      "Degrees of freedom: 60\n",
      "P-value: 8.895290509945657e-07\n"
     ]
    }
   ],
   "source": [
    "import numpy as np\n",
    "import scipy.stats as stats\n",
    "\n",
    "def compare_customer_satisfaction(branch_a_scores, branch_b_scores):\n",
    "    \n",
    "\n",
    "    # Convert lists to NumPy arrays\n",
    "    branch_a_scores = np.array(branch_a_scores)\n",
    "    branch_b_scores = np.array(branch_b_scores)\n",
    "\n",
    "    # Perform independent t-test\n",
    "    t_statistic, p_value = stats.ttest_ind(branch_a_scores, branch_b_scores)\n",
    "\n",
    "    # Calculate degrees of freedom\n",
    "    degrees_of_freedom = len(branch_a_scores) + len(branch_b_scores) - 2\n",
    "\n",
    "    return t_statistic, degrees_of_freedom, p_value\n",
    "\n",
    "# Example usage\n",
    "branch_a_scores = [4, 5, 3, 4, 5, 4, 5, 3, 4, 4, 5, 4, 4, 3, 4, 5, 5, 4, 3, 4, 5, 4, 3, 5, 4, 4, 5, 3, 4, 5, 4]\n",
    "branch_b_scores = [3, 4, 2, 3, 4, 3, 4, 2, 3, 3, 4, 3, 3, 2, 3, 4, 4, 3, 2, 3, 4, 3, 2, 4, 3, 3, 4, 2, 3, 4, 3]\n",
    "\n",
    "t_statistic, degrees_of_freedom, p_value = compare_customer_satisfaction(branch_a_scores, branch_b_scores)\n",
    "print(\"T-statistic:\", t_statistic)\n",
    "print(\"Degrees of freedom:\", degrees_of_freedom)\n",
    "print(\"P-value:\", p_value)"
   ]
  },
  {
   "cell_type": "markdown",
   "metadata": {},
   "source": [
    "21 A political analyst wants to determine i@ there is a signi@icant association between age groups and voter\n",
    "pre@erences FCandidate A or Candidate B). They collect data @rom a sample o@ 500 voters and classi@y\n",
    "them into di@@erent age groups and candidate pre@erences. Per@orm a Chi-Square test to determine i@\n",
    "there is a signi@icant association between age groups and voter pre@erences.\n",
    "\n",
    "\n",
    "Use the below code to generate data:\n",
    "\n",
    "```python\n",
    "\n",
    "np.random.seed(0)\n",
    "\n",
    "age_groups = np.random.choice([ 18 30 , 31 50 , 51+', 51+'], size=30)\n",
    "\n",
    "voter_preferences = np.random.choice(['Candidate A', 'Candidate B'], size=30)"
   ]
  },
  {
   "cell_type": "code",
   "execution_count": 35,
   "metadata": {},
   "outputs": [
    {
     "name": "stdout",
     "output_type": "stream",
     "text": [
      "There is no statistically significant association between age groups and voter preferences.\n"
     ]
    }
   ],
   "source": [
    "import numpy as np\n",
    "import scipy.stats as stats\n",
    "import pandas as pd\n",
    "\n",
    "# Generate synthetic data\n",
    "np.random.seed(0)\n",
    "\n",
    "age_groups = np.random.choice([\"18-30\", \"31-50\", \"51+\"], size=30)\n",
    "voter_preferences = np.random.choice([\"Candidate A\", \"Candidate B\"], size=30)\n",
    "\n",
    "# Create a contingency table\n",
    "contingency_table = pd.crosstab(age_groups, voter_preferences)\n",
    "\n",
    "# Perform chi-square test\n",
    "chi2_stat, p_value, _, _ = stats.chi2_contingency(contingency_table)\n",
    "\n",
    "# Set significance level (alpha)\n",
    "alpha = 0.05\n",
    "\n",
    "# Compare p-value with alpha\n",
    "if p_value < alpha:\n",
    "    print(\"There is a statistically significant association between age groups and voter preferences.\")\n",
    "else:\n",
    "    print(\"There is no statistically significant association between age groups and voter preferences.\")"
   ]
  },
  {
   "cell_type": "markdown",
   "metadata": {},
   "source": [
    " 22. A company conducted a customer satisfaction survey to determine if there is a significant relationship\n",
    "between product satisfaction levels (Satisfied, Neutral, Dissatisfied) and the region where customers are\n",
    "located (East, West, North, South). The survey data is summarized in a contingency table. Conduct a ChiSquare test to determine if there is a significant relationship between product satisfaction levels and\n",
    "customer regions.\n",
    "\n",
    "\n",
    "Sample data:\n",
    "\n",
    "```python\n",
    "\n",
    "#Sample data: Product satisfaction levels (rows) vs. Customer regions (columns)\n",
    "\n",
    "data = np.array([[50, 30, 40, 20], [30, 40, 30, 50], [20, 30, 40, 30]])"
   ]
  },
  {
   "cell_type": "code",
   "execution_count": 36,
   "metadata": {},
   "outputs": [
    {
     "name": "stdout",
     "output_type": "stream",
     "text": [
      "There is a statistically significant relationship between product satisfaction levels and customer regions.\n"
     ]
    }
   ],
   "source": [
    "import numpy as np\n",
    "import scipy.stats as stats\n",
    "\n",
    "# Sample data: Product satisfaction levels (rows) vs. Customer regions (columns)\n",
    "data = np.array([[50, 30, 40, 20], [30, 40, 30, 50], [20, 30, 40, 30]])\n",
    "\n",
    "# Perform chi-square test\n",
    "chi2_stat, p_value, _, _ = stats.chi2_contingency(data)\n",
    "\n",
    "# Set significance level (alpha)\n",
    "alpha = 0.05\n",
    "\n",
    "# Compare p-value with alpha\n",
    "if p_value < alpha:\n",
    "    print(\"There is a statistically significant relationship between product satisfaction levels and customer regions.\")\n",
    "else:\n",
    "    print(\"There is no statistically significant relationship between product satisfaction levels and customer regions.\")"
   ]
  },
  {
   "cell_type": "markdown",
   "metadata": {},
   "source": [
    " 23. A company implemented an employee training program to improve job performance (Effective, Neutral,\n",
    "Ineffective). After the training, they collected data from a sample of employees and classified them based\n",
    "on their job performance before and after the training. Perform a Chi-Square test to determine if there is a\n",
    "significant difference between job performance levels before and after the training.\n",
    "\n",
    "\n",
    "Sample data:\n",
    "\n",
    "```python\n",
    "\n",
    "# Sample data: Job performance levels before (rows) and after (columns) training\n",
    "\n",
    "data = np.array([[50, 30, 20], [30, 40, 30], [20, 30, 40]])"
   ]
  },
  {
   "cell_type": "code",
   "execution_count": 37,
   "metadata": {},
   "outputs": [
    {
     "name": "stdout",
     "output_type": "stream",
     "text": [
      "There is a statistically significant difference between job performance levels before and after the training.\n"
     ]
    }
   ],
   "source": [
    "import numpy as np\n",
    "import scipy.stats as stats\n",
    "\n",
    "# Sample data: Job performance levels before (rows) and after (columns) training\n",
    "data = np.array([[50, 30, 20], [30, 40, 30], [20, 30, 40]])\n",
    "\n",
    "# Perform chi-square test\n",
    "chi2_stat, p_value, _, _ = stats.chi2_contingency(data)\n",
    "\n",
    "# Set significance level (alpha)\n",
    "alpha = 0.05\n",
    "\n",
    "# Compare p-value with alpha\n",
    "if p_value < alpha:\n",
    "    print(\"There is a statistically significant difference between job performance levels before and after the training.\")\n",
    "else:\n",
    "    print(\"There is no statistically significant difference between job performance levels before and after the training.\")"
   ]
  },
  {
   "cell_type": "markdown",
   "metadata": {},
   "source": [
    " 24. A company produces three different versions of a product: Standard, Premium, and Deluxe. The\n",
    "company wants to determine if there is a significant difference in customer satisfaction scores among the\n",
    "three product versions. They conducted a survey and collected customer satisfaction scores for each\n",
    "version from a random sample of customers. Perform an ANOVA test to determine if there is a significant\n",
    "difference in customer satisfaction scores.\n",
    "\n",
    "\n",
    "  Use the following data:\n",
    "\n",
    "  ```python\n",
    "\n",
    "  # Sample data: Customer satisfaction scores for each product version\n",
    "\n",
    "  standard_scores = [80, 85, 90, 78, 88, 82, 92, 78, 85, 87]\n",
    "\n",
    "  premium_scores = [90, 92, 88, 92, 95, 91, 96, 93, 89, 93]\n",
    "\n",
    "  deluxe_scores = [95, 98, 92, 97, 96, 94, 98, 97, 92, 99]\n",
    "\n"
   ]
  },
  {
   "cell_type": "code",
   "execution_count": 38,
   "metadata": {},
   "outputs": [
    {
     "name": "stdout",
     "output_type": "stream",
     "text": [
      "There is a statistically significant difference in customer satisfaction scores among the three product versions.\n"
     ]
    }
   ],
   "source": [
    "import numpy as np\n",
    "import scipy.stats as stats\n",
    "\n",
    "# Sample data: Customer satisfaction scores for each product version\n",
    "standard_scores = [80, 85, 90, 78, 88, 82, 92, 78, 85, 87]\n",
    "premium_scores = [90, 92, 88, 92, 95, 91, 96, 93, 89, 93]\n",
    "deluxe_scores = [95, 98, 92, 97, 96, 94, 98, 97, 92, 99]\n",
    "\n",
    "# Combine scores into a single array\n",
    "all_scores = np.concatenate([standard_scores, premium_scores, deluxe_scores])\n",
    "\n",
    "# Create a grouping variable\n",
    "groups = np.array([\"Standard\"] * len(standard_scores) + [\"Premium\"] * len(premium_scores) + [\"Deluxe\"] * len(deluxe_scores))\n",
    "\n",
    "# Perform one-way ANOVA\n",
    "f_statistic, p_value = stats.f_oneway(standard_scores, premium_scores, deluxe_scores)\n",
    "\n",
    "# Set significance level (alpha)\n",
    "alpha = 0.05\n",
    "\n",
    "# Compare p-value with alpha\n",
    "if p_value < alpha:\n",
    "    print(\"There is a statistically significant difference in customer satisfaction scores among the three product versions.\")\n",
    "else:\n",
    "    print(\"There is no statistically significant difference in customer satisfaction scores among the three product versions.\")"
   ]
  }
 ],
 "metadata": {
  "kernelspec": {
   "display_name": "Python 3",
   "language": "python",
   "name": "python3"
  },
  "language_info": {
   "codemirror_mode": {
    "name": "ipython",
    "version": 3
   },
   "file_extension": ".py",
   "mimetype": "text/x-python",
   "name": "python",
   "nbconvert_exporter": "python",
   "pygments_lexer": "ipython3",
   "version": "3.11.5"
  }
 },
 "nbformat": 4,
 "nbformat_minor": 2
}
